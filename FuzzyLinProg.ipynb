{
 "cells": [
  {
   "cell_type": "code",
   "execution_count": null,
   "metadata": {},
   "outputs": [],
   "source": [
    "import pulp"
   ]
  },
  {
   "cell_type": "code",
   "execution_count": null,
   "metadata": {},
   "outputs": [],
   "source": [
    "prob = pulp.LpProblem(\"Fuzzy Linear Programming\", pulp.LpMaximize)"
   ]
  },
  {
   "cell_type": "markdown",
   "metadata": {},
   "source": [
    "$$f(x1, x2)=2x_1+5x_2\\to\\max,\\\\\n",
    " x_1+x_2\\succeq24,\\\\4x_1+6x_2\\preceq4,\\\\3x_1+8x_2\\preceq4,\\\\ x_1,x_2\\geq0$$"
   ]
  },
  {
   "cell_type": "code",
   "execution_count": null,
   "metadata": {},
   "outputs": [],
   "source": [
    "x1 = pulp.LpVariable(\"x1\", lowBound=0) \n",
    "x2 = pulp.LpVariable(\"x2\", lowBound=0) \n",
    "y1 = pulp.LpVariable(\"y1\", cat='Binary')  \n",
    "y2 = pulp.LpVariable(\"y2\", cat='Binary')  \n",
    "y3 = pulp.LpVariable(\"y3\", cat='Binary') "
   ]
  },
  {
   "cell_type": "code",
   "execution_count": null,
   "metadata": {},
   "outputs": [],
   "source": [
    "prob += 2 * x1 + 5 * x2, \"Objective Function\"\n",
    "prob += x1 + x2 - 1000 * y1 >= 4 - 1000, \"Constraint 1\"\n",
    "prob += 4 * x1 + 6 * x2 <= 24, \"Constraint 2\"\n",
    "prob += 3 * x1 + 8 * x2 <= 24, \"Constraint 3\""
   ]
  },
  {
   "cell_type": "code",
   "execution_count": 2,
   "metadata": {},
   "outputs": [
    {
     "name": "stdout",
     "output_type": "stream",
     "text": [
      "Welcome to the CBC MILP Solver \n",
      "Version: 2.10.3 \n",
      "Build Date: Dec 15 2019 \n",
      "\n",
      "command line - /opt/homebrew/lib/python3.11/site-packages/pulp/solverdir/cbc/osx/64/cbc /var/folders/kl/jfwvxx3s68qd0pvk126hj5w40000gn/T/cf2d31481588461f98266415a9f4ef21-pulp.mps -max -timeMode elapsed -branch -printingOptions all -solution /var/folders/kl/jfwvxx3s68qd0pvk126hj5w40000gn/T/cf2d31481588461f98266415a9f4ef21-pulp.sol (default strategy 1)\n",
      "At line 2 NAME          MODEL\n",
      "At line 3 ROWS\n",
      "At line 8 COLUMNS\n",
      "At line 20 RHS\n",
      "At line 24 BOUNDS\n",
      "At line 26 ENDATA\n",
      "Problem MODEL has 3 rows, 3 columns and 7 elements\n",
      "Coin0008I MODEL read with 0 errors\n",
      "Option for timeMode changed from cpu to elapsed\n",
      "Continuous objective value is 15.4286 - 0.00 seconds\n",
      "Cgl0004I processed model has 2 rows, 2 columns (0 integer (0 of which binary)) and 4 elements\n",
      "Cbc3007W No integer variables - nothing to do\n",
      "Cuts at root node changed objective from -15.4286 to -1.79769e+308\n",
      "Probing was tried 0 times and created 0 cuts of which 0 were active after adding rounds of cuts (0.000 seconds)\n",
      "Gomory was tried 0 times and created 0 cuts of which 0 were active after adding rounds of cuts (0.000 seconds)\n",
      "Knapsack was tried 0 times and created 0 cuts of which 0 were active after adding rounds of cuts (0.000 seconds)\n",
      "Clique was tried 0 times and created 0 cuts of which 0 were active after adding rounds of cuts (0.000 seconds)\n",
      "MixedIntegerRounding2 was tried 0 times and created 0 cuts of which 0 were active after adding rounds of cuts (0.000 seconds)\n",
      "FlowCover was tried 0 times and created 0 cuts of which 0 were active after adding rounds of cuts (0.000 seconds)\n",
      "TwoMirCuts was tried 0 times and created 0 cuts of which 0 were active after adding rounds of cuts (0.000 seconds)\n",
      "ZeroHalf was tried 0 times and created 0 cuts of which 0 were active after adding rounds of cuts (0.000 seconds)\n",
      "\n",
      "Result - Optimal solution found\n",
      "\n",
      "Objective value:                15.42857143\n",
      "Enumerated nodes:               0\n",
      "Total iterations:               0\n",
      "Time (CPU seconds):             0.00\n",
      "Time (Wallclock seconds):       0.02\n",
      "\n",
      "Option for printingOptions changed from normal to all\n",
      "Total time (CPU seconds):       0.00   (Wallclock seconds):       0.02\n",
      "\n",
      "Optimal Solution:\n",
      "x1 = 3.4285714\n",
      "x2 = 1.7142857\n",
      "y1 = 0.0\n",
      "Optimal Objective Value: 15.4285713\n"
     ]
    }
   ],
   "source": [
    " \n",
    "prob.solve()\n",
    "print(\"Optimal Solution:\")\n",
    "for v in prob.variables():\n",
    "    print(v.name, \"=\", v.varValue)\n",
    "\n",
    "print(\"Optimal Objective Value:\", pulp.value(prob.objective))\n"
   ]
  }
 ],
 "metadata": {
  "kernelspec": {
   "display_name": "Python 3",
   "language": "python",
   "name": "python3"
  },
  "language_info": {
   "codemirror_mode": {
    "name": "ipython",
    "version": 3
   },
   "file_extension": ".py",
   "mimetype": "text/x-python",
   "name": "python",
   "nbconvert_exporter": "python",
   "pygments_lexer": "ipython3",
   "version": "3.11.4"
  }
 },
 "nbformat": 4,
 "nbformat_minor": 2
}
