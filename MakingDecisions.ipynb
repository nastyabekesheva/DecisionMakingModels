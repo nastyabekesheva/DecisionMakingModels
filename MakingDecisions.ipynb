{
 "cells": [
  {
   "cell_type": "code",
   "execution_count": 1,
   "metadata": {},
   "outputs": [],
   "source": [
    "import numpy as np"
   ]
  },
  {
   "cell_type": "markdown",
   "metadata": {},
   "source": [
    "# Data"
   ]
  },
  {
   "cell_type": "code",
   "execution_count": 3,
   "metadata": {},
   "outputs": [],
   "source": [
    "R1 = np.array([[1, 0.3, 0.8, 0.5, 1],\n",
    "               [0.6, 1, 0.7, 0.3, 0.7],\n",
    "               [0.6, 0, 1, 0.9, 0.1],\n",
    "               [0.3, 1, 0.6, 1, 0.4],\n",
    "               [0.2, 0, 0.1, 0.1, 1]])\n",
    "R2 = np.array([[1, 0, 1, 0, 0.6],\n",
    "               [1, 1, 0.9, 0.4, 1],\n",
    "               [0, 0.7, 1, 0, 0.7],\n",
    "               [0.5, 0.3, 0, 1, 0.7],\n",
    "               [1, 0.9, 0.8, 0.3, 1]])\n",
    "lambda1 = 0.3\n",
    "lambda2 = 0.7"
   ]
  },
  {
   "cell_type": "markdown",
   "metadata": {},
   "source": [
    "# Step - 1\n",
    "\n",
    "$$Q_1=\\lambda_1 R_1\\cap\\lambda_2 R_2$$"
   ]
  },
  {
   "cell_type": "code",
   "execution_count": 5,
   "metadata": {},
   "outputs": [
    {
     "data": {
      "text/plain": [
       "array([[0.3 , 0.  , 0.24, 0.  , 0.3 ],\n",
       "       [0.18, 0.3 , 0.21, 0.09, 0.21],\n",
       "       [0.  , 0.  , 0.3 , 0.  , 0.03],\n",
       "       [0.09, 0.21, 0.  , 0.3 , 0.12],\n",
       "       [0.06, 0.  , 0.03, 0.03, 0.3 ]])"
      ]
     },
     "execution_count": 5,
     "metadata": {},
     "output_type": "execute_result"
    }
   ],
   "source": [
    "Q1 = np.minimum(lambda1 * R1, lambda2 * R2)\n",
    "Q1"
   ]
  },
  {
   "cell_type": "markdown",
   "metadata": {},
   "source": [
    "# Step - 2\n",
    "\n",
    "$$Q_2=\\lambda_1 R_1 + \\lambda_2 R_2$$"
   ]
  },
  {
   "cell_type": "code",
   "execution_count": 6,
   "metadata": {},
   "outputs": [],
   "source": [
    "Q2 = lambda1 * R1 + lambda2 * R2"
   ]
  },
  {
   "cell_type": "markdown",
   "metadata": {},
   "source": [
    "# Step - 3 - strong preference relation\n"
   ]
  },
  {
   "cell_type": "code",
   "execution_count": 7,
   "metadata": {},
   "outputs": [],
   "source": [
    "def calculate_difference_matrix(Q):\n",
    "    n = Q.shape[0]\n",
    "    Q_revers = np.zeros((n, n), dtype=float)\n",
    "    Q_diff = np.zeros((n, n), dtype=float)\n",
    "    \n",
    "    # Reverse the matrix\n",
    "    for i in range(n):\n",
    "        for j in range(n):\n",
    "            Q_revers[i][j] = Q[j][i]\n",
    "    \n",
    "    # Compute the difference\n",
    "    for i in range(n):\n",
    "        for j in range(n):\n",
    "            Q_diff[i][j] = Q[i][j] - Q_revers[i][j]\n",
    "            if Q_diff[i][j] < 0:\n",
    "                Q_diff[i][j] = 0\n",
    "                \n",
    "    return Q_diff\n",
    "\n",
    "Q1_diff = calculate_difference_matrix(Q1)\n",
    "Q2_diff = calculate_difference_matrix(Q2)"
   ]
  },
  {
   "cell_type": "code",
   "execution_count": 8,
   "metadata": {},
   "outputs": [
    {
     "data": {
      "text/plain": [
       "array([[0.  , 0.  , 0.24, 0.  , 0.24],\n",
       "       [0.18, 0.  , 0.21, 0.  , 0.21],\n",
       "       [0.  , 0.  , 0.  , 0.  , 0.  ],\n",
       "       [0.09, 0.12, 0.  , 0.  , 0.09],\n",
       "       [0.  , 0.  , 0.  , 0.  , 0.  ]])"
      ]
     },
     "execution_count": 8,
     "metadata": {},
     "output_type": "execute_result"
    }
   ],
   "source": [
    "Q1_diff"
   ]
  },
  {
   "cell_type": "code",
   "execution_count": 9,
   "metadata": {},
   "outputs": [
    {
     "data": {
      "text/plain": [
       "array([[0.  , 0.  , 0.76, 0.  , 0.  ],\n",
       "       [0.79, 0.  , 0.35, 0.  , 0.28],\n",
       "       [0.  , 0.  , 0.  , 0.09, 0.  ],\n",
       "       [0.29, 0.14, 0.  , 0.  , 0.37],\n",
       "       [0.04, 0.  , 0.07, 0.  , 0.  ]])"
      ]
     },
     "execution_count": 9,
     "metadata": {},
     "output_type": "execute_result"
    }
   ],
   "source": [
    "Q2_diff"
   ]
  },
  {
   "cell_type": "markdown",
   "metadata": {},
   "source": [
    "# Step - 4 \n",
    "$$\\mu_Q(x)=1-sup_{y\\in X} \\mu^2_Q(x, y)$$"
   ]
  },
  {
   "cell_type": "code",
   "execution_count": 21,
   "metadata": {},
   "outputs": [],
   "source": [
    "def calculate_alternatives(Q_diff):\n",
    "    n = Q_diff.shape[0]\n",
    "    alternatives = np.zeros(n, dtype=float)\n",
    "    \n",
    "    for i in range(n):\n",
    "        alternatives[i] = round(1 - max(Q_diff[:, i]), 3)\n",
    "    \n",
    "    return alternatives\n",
    "\n",
    "def calculate_alternatives_in_both(alternatives1, alternatives2):\n",
    "    return np.minimum(alternatives1, alternatives2)\n"
   ]
  },
  {
   "cell_type": "code",
   "execution_count": 22,
   "metadata": {},
   "outputs": [],
   "source": [
    "alternatives_Q1 = calculate_alternatives(Q1_diff)\n",
    "alternatives_Q2 = calculate_alternatives(Q2_diff)"
   ]
  },
  {
   "cell_type": "code",
   "execution_count": 23,
   "metadata": {},
   "outputs": [
    {
     "data": {
      "text/plain": [
       "array([0.82, 0.88, 0.76, 1.  , 0.76])"
      ]
     },
     "execution_count": 23,
     "metadata": {},
     "output_type": "execute_result"
    }
   ],
   "source": [
    "alternatives_Q1"
   ]
  },
  {
   "cell_type": "code",
   "execution_count": 24,
   "metadata": {},
   "outputs": [
    {
     "data": {
      "text/plain": [
       "array([0.21, 0.86, 0.24, 0.91, 0.63])"
      ]
     },
     "execution_count": 24,
     "metadata": {},
     "output_type": "execute_result"
    }
   ],
   "source": [
    "alternatives_Q2"
   ]
  },
  {
   "cell_type": "code",
   "execution_count": 25,
   "metadata": {},
   "outputs": [
    {
     "name": "stdout",
     "output_type": "stream",
     "text": [
      "Alternatives in Q1 and Q2:\n",
      " [0.21 0.86 0.24 0.91 0.63]\n"
     ]
    }
   ],
   "source": [
    "alternatives_in_Q1_and_Q2 = calculate_alternatives_in_both(alternatives_Q1, alternatives_Q2)\n",
    "\n",
    "print('Alternatives in Q1 and Q2:\\n', alternatives_in_Q1_and_Q2)"
   ]
  }
 ],
 "metadata": {
  "kernelspec": {
   "display_name": "Python 3",
   "language": "python",
   "name": "python3"
  },
  "language_info": {
   "codemirror_mode": {
    "name": "ipython",
    "version": 3
   },
   "file_extension": ".py",
   "mimetype": "text/x-python",
   "name": "python",
   "nbconvert_exporter": "python",
   "pygments_lexer": "ipython3",
   "version": "3.11.4"
  }
 },
 "nbformat": 4,
 "nbformat_minor": 2
}
