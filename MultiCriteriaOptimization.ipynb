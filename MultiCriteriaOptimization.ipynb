{
 "cells": [
  {
   "cell_type": "code",
   "execution_count": 1,
   "metadata": {},
   "outputs": [],
   "source": [
    "import pandas as pd\n",
    "import numpy as np\n",
    "from scipy.optimize import linprog"
   ]
  },
  {
   "cell_type": "code",
   "execution_count": 4,
   "metadata": {},
   "outputs": [],
   "source": [
    "productivity = np.array([\n",
    "    [10, 40, 10],\n",
    "    [50, 10, 50],\n",
    "    [60, 40, 30]\n",
    "    ])\n",
    "\n",
    "cost = np.array([\n",
    "    [20, 14, 25],\n",
    "    [30, 25, 15],\n",
    "    [15, 20, 20]\n",
    "    ])\n",
    "constraint = np.array([400, 300, 480])"
   ]
  },
  {
   "cell_type": "code",
   "execution_count": 5,
   "metadata": {},
   "outputs": [
    {
     "name": "stdout",
     "output_type": "stream",
     "text": [
      "f(x)=10x_11+40x_12+10x_13+50x_21+10x_22+50x_23+60x_31+40x_32+30x_33 -> max\n",
      "f(x)=20x_11+14x_12+25x_13+30x_21+25x_22+15x_23+15x_31+20x_32+20x_33 -> min\n",
      "x_11+x_12+x_13 <= 400\n",
      "x_21+x_22+x_23 <= 300\n",
      "x_31+x_32+x_33 <= 480\n",
      "x_11,...,x_33 => 0\n"
     ]
    }
   ],
   "source": [
    "total_work = f\"f(x)=\"\n",
    "\n",
    "for i in range(3):\n",
    "    for j in range(3):\n",
    "        total_work += f\"{productivity[i][j]}x_{i+1}{j+1}+\"\n",
    "\n",
    "total_cost = f\"f(x)=\"\n",
    "\n",
    "for i in range(3):\n",
    "    for j in range(3):\n",
    "        total_cost += f\"{cost[i][j]}x_{i+1}{j+1}+\"\n",
    "\n",
    "total_work = total_work[:-1]\n",
    "total_cost = total_cost[:-1]\n",
    "print(total_work+\" -> max\")\n",
    "print(total_cost+\" -> min\")\n",
    "for i in range(3):\n",
    "    print(f\"x_{i+1}1+x_{i+1}2+x_{i+1}3 <= {constraint[i]}\")\n",
    "print(\"x_11,...,x_33 => 0\")"
   ]
  },
  {
   "cell_type": "code",
   "execution_count": 43,
   "metadata": {},
   "outputs": [
    {
     "name": "stdout",
     "output_type": "stream",
     "text": [
      "Optimal work:\n",
      "[[  0. 400.   0.]\n",
      " [300.   0.   0.]\n",
      " [480.   0.   0.]]\n",
      "Optimal cost:\n",
      "59800.0\n"
     ]
    }
   ],
   "source": [
    "c = [-10, -40, -10, -50, -10, -50, -60, -40, -30]\n",
    "A = [[1, 1, 1, 0, 0, 0, 0, 0, 0],\n",
    "     [0, 0, 0, 1, 1, 1, 0, 0, 0],\n",
    "     [0, 0, 0, 0, 0, 0, 1, 1, 1]]\n",
    "\n",
    "b = [400, 300, 480]\n",
    "x_bounds = (0, None) \n",
    "\n",
    "res = linprog(c, A_ub=A, b_ub=b, bounds=[x_bounds] * 9, method='highs')\n",
    "\n",
    "print(\"Optimal work:\")\n",
    "optimal_hours = res.x.reshape(3, 3)\n",
    "print(optimal_hours)\n",
    "print(\"Optimal cost:\")\n",
    "actuals = -res.fun\n",
    "print(actuals)  \n"
   ]
  },
  {
   "cell_type": "code",
   "execution_count": 44,
   "metadata": {},
   "outputs": [
    {
     "name": "stdout",
     "output_type": "stream",
     "text": [
      "Optimal work:\n",
      "[[  0.          21.42857143   0.        ]\n",
      " [  0.           0.         300.        ]\n",
      " [480.           0.           0.        ]]\n",
      "Optimal work:\n",
      "44657.142857142855\n",
      "Cost of work\n",
      "12000.0\n"
     ]
    }
   ],
   "source": [
    "c = [-10, -40, -10, -50, -10, -50, -60, -40, -30]\n",
    "A = [[1, 1, 1, 0, 0, 0, 0, 0, 0],\n",
    "     [0, 0, 0, 1, 1, 1, 0, 0, 0],\n",
    "     [0, 0, 0, 0, 0, 0, 1, 1, 1],\n",
    "     [20, 14, 25, 30, 25, 15, 15, 20, 20]]  \n",
    "\n",
    "\n",
    "b = [400, 300, 480, 12000]  \n",
    "x_bounds = (0, None)\n",
    "\n",
    "res = linprog(c, A_ub=A, b_ub=b, bounds=[x_bounds] * 9, method='highs')\n",
    "\n",
    "print(\"Optimal work:\")\n",
    "optimal_hours = res.x.reshape(3, 3)\n",
    "print(optimal_hours)\n",
    "print(\"Optimal work:\")\n",
    "print(-res.fun)  \n",
    "print(\"Cost of work\")\n",
    "print((A[3]*res.x).sum())"
   ]
  }
 ],
 "metadata": {
  "kernelspec": {
   "display_name": "Python 3",
   "language": "python",
   "name": "python3"
  },
  "language_info": {
   "codemirror_mode": {
    "name": "ipython",
    "version": 3
   },
   "file_extension": ".py",
   "mimetype": "text/x-python",
   "name": "python",
   "nbconvert_exporter": "python",
   "pygments_lexer": "ipython3",
   "version": "3.11.4"
  }
 },
 "nbformat": 4,
 "nbformat_minor": 2
}
